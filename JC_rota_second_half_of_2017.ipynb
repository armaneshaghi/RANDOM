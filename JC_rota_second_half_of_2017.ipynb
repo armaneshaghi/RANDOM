{
 "cells": [
  {
   "cell_type": "code",
   "execution_count": 1,
   "metadata": {
    "collapsed": true
   },
   "outputs": [],
   "source": [
    "import random"
   ]
  },
  {
   "cell_type": "code",
   "execution_count": 2,
   "metadata": {
    "collapsed": true
   },
   "outputs": [],
   "source": [
    "Colleagues = [\"Nevin\",\n",
    "\"Carmen\",\n",
    "\"Floriana\",\n",
    "\"Alberto\",\n",
    "\"Thalis\",\n",
    "\"Marco\",\n",
    "\"Rosanna\",\n",
    "\"Maria Giovanna\",\n",
    "\"Jon (Stutters)\",\n",
    "\"Cristina\",\n",
    "\"Antonio\"]"
   ]
  },
  {
   "cell_type": "code",
   "execution_count": 3,
   "metadata": {
    "collapsed": true
   },
   "outputs": [],
   "source": [
    "dates = [\n",
    "         \"1-Sep-2017\",\n",
    "         \"29-Sep-2017\",\n",
    "        \"13-Oct-2017\",\n",
    "         \"10-Nov-2017\",\n",
    "         \"8-Dec-2017\",\n",
    "         \"19-Jan-2017\",\n",
    "        \"16-Feb-2018\",\n",
    "        \"16-March-2018\"\n",
    "        ]\n",
    "\n"
   ]
  },
  {
   "cell_type": "code",
   "execution_count": 4,
   "metadata": {},
   "outputs": [],
   "source": [
    "randomly_chosen_colleague_numbers = random.sample(range(1, len(Colleagues)), len(dates))"
   ]
  },
  {
   "cell_type": "code",
   "execution_count": 5,
   "metadata": {},
   "outputs": [
    {
     "name": "stdout",
     "output_type": "stream",
     "text": [
      "Date 1-Sep-2017 has been assigned to Marco\n",
      "\n",
      "Date 29-Sep-2017 has been assigned to Thalis\n",
      "\n",
      "Date 13-Oct-2017 has been assigned to Floriana\n",
      "\n",
      "Date 10-Nov-2017 has been assigned to Cristina\n",
      "\n",
      "Date 8-Dec-2017 has been assigned to Jon (Stutters)\n",
      "\n",
      "Date 19-Jan-2017 has been assigned to Rosanna\n",
      "\n",
      "Date 16-Feb-2018 has been assigned to Alberto\n",
      "\n",
      "Date 16-March-2018 has been assigned to Carmen\n",
      "\n"
     ]
    }
   ],
   "source": [
    "for number, date in enumerate(dates):\n",
    "    randomly_chosen_colleague_number = randomly_chosen_colleague_numbers[ number ]\n",
    "    randomly_chosen_colleage_name = Colleagues[randomly_chosen_colleague_number ]\n",
    "    print('Date {date} has been assigned to {name}\\n'.format(date = date, \n",
    "                                                            name = randomly_chosen_colleage_name))"
   ]
  },
  {
   "cell_type": "code",
   "execution_count": null,
   "metadata": {
    "collapsed": true
   },
   "outputs": [],
   "source": []
  }
 ],
 "metadata": {
  "anaconda-cloud": {},
  "kernelspec": {
   "display_name": "Python [development]",
   "language": "python",
   "name": "Python [development]"
  },
  "language_info": {
   "codemirror_mode": {
    "name": "ipython",
    "version": 2
   },
   "file_extension": ".py",
   "mimetype": "text/x-python",
   "name": "python",
   "nbconvert_exporter": "python",
   "pygments_lexer": "ipython2",
   "version": "2.7.13"
  }
 },
 "nbformat": 4,
 "nbformat_minor": 1
}
