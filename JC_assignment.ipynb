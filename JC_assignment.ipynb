{
 "cells": [
  {
   "cell_type": "markdown",
   "metadata": {},
   "source": [
    "# The following code will randomly assign colleagues to a date for MS Centre Journal Club.  \n",
    "Arman Eshaghi"
   ]
  },
  {
   "cell_type": "code",
   "execution_count": 3,
   "metadata": {
    "collapsed": true
   },
   "outputs": [],
   "source": [
    "import random"
   ]
  },
  {
   "cell_type": "code",
   "execution_count": 4,
   "metadata": {
    "collapsed": true
   },
   "outputs": [],
   "source": [
    "Colleagues = [\"Marcello\", \"Marco\", \"Lise\", \n",
    "              \"Amber\", \"Adnan\",\" Francesco\", \n",
    "              \"Becky\",\"Carmen\", \"Sara (Colorone)\", \n",
    "              \"Karen\", \"Martina\", \"Thalis\", \n",
    "              \"Floriana\", \"Steven\", \n",
    "              \"Anisha\", \"Marios\",\n",
    "              \"Lizzie\", \"Will\"]"
   ]
  },
  {
   "cell_type": "code",
   "execution_count": 5,
   "metadata": {
    "collapsed": true
   },
   "outputs": [],
   "source": [
    "dates = [\n",
    "\"19 August\",  \"2 September\",  \"30 September\",\n",
    "    \"14 October\", \n",
    " \"28 October\",  \"11 November\", \"25 November\" , \"9 December\"\n",
    "    ]"
   ]
  },
  {
   "cell_type": "code",
   "execution_count": 6,
   "metadata": {
    "collapsed": false
   },
   "outputs": [
    {
     "data": {
      "text/plain": [
       "18"
      ]
     },
     "execution_count": 6,
     "metadata": {},
     "output_type": "execute_result"
    }
   ],
   "source": [
    "len(Colleagues)"
   ]
  },
  {
   "cell_type": "code",
   "execution_count": 7,
   "metadata": {
    "collapsed": false
   },
   "outputs": [
    {
     "data": {
      "text/plain": [
       "8"
      ]
     },
     "execution_count": 7,
     "metadata": {},
     "output_type": "execute_result"
    }
   ],
   "source": [
    "len(dates)"
   ]
  },
  {
   "cell_type": "code",
   "execution_count": 20,
   "metadata": {
    "collapsed": false
   },
   "outputs": [],
   "source": [
    "randomly_chosen_colleague_numbers = random.sample(range(1, len(Colleagues)), len(dates))"
   ]
  },
  {
   "cell_type": "code",
   "execution_count": 21,
   "metadata": {
    "collapsed": false,
    "scrolled": true
   },
   "outputs": [
    {
     "name": "stdout",
     "output_type": "stream",
     "text": [
      "Date 19 August has been assigned to Martina\n",
      "\n",
      "Date 2 September has been assigned to Lizzie\n",
      "\n",
      "Date 30 September has been assigned to  Francesco\n",
      "\n",
      "Date 14 October has been assigned to Steven\n",
      "\n",
      "Date 28 October has been assigned to Karen\n",
      "\n",
      "Date 11 November has been assigned to Anisha\n",
      "\n",
      "Date 25 November has been assigned to Marios\n",
      "\n",
      "Date 9 December has been assigned to Becky\n",
      "\n"
     ]
    }
   ],
   "source": [
    "for number, date in enumerate(dates):\n",
    "    randomly_chosen_colleague_number = randomly_chosen_colleague_numbers[ number ]\n",
    "    randomly_chosen_colleage_name = Colleagues[randomly_chosen_colleague_number ]\n",
    "    print('Date {date} has been assigned to {name}\\n'.format(date = date, \n",
    "                                                            name = randomly_chosen_colleage_name))"
   ]
  }
 ],
 "metadata": {
  "kernelspec": {
   "display_name": "Python 2",
   "language": "python",
   "name": "python2"
  },
  "language_info": {
   "codemirror_mode": {
    "name": "ipython",
    "version": 2
   },
   "file_extension": ".py",
   "mimetype": "text/x-python",
   "name": "python",
   "nbconvert_exporter": "python",
   "pygments_lexer": "ipython2",
   "version": "2.7.11"
  }
 },
 "nbformat": 4,
 "nbformat_minor": 0
}
