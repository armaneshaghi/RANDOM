{
 "cells": [
  {
   "cell_type": "markdown",
   "metadata": {},
   "source": [
    "# The following code will randomly assign colleagues to a date for MS Centre Journal Club"
   ]
  },
  {
   "cell_type": "markdown",
   "metadata": {},
   "source": [
    "#### Arman Eshaghi"
   ]
  },
  {
   "cell_type": "code",
   "execution_count": 1,
   "metadata": {
    "collapsed": true
   },
   "outputs": [],
   "source": [
    "import random"
   ]
  },
  {
   "cell_type": "markdown",
   "metadata": {},
   "source": [
    "Ferran, Arman, Francesco, Wallace, Lizzie, Martina, Anisha, "
   ]
  },
  {
   "cell_type": "code",
   "execution_count": 2,
   "metadata": {
    "collapsed": true
   },
   "outputs": [],
   "source": [
    "Colleagues = [\"Thalis\", \"Marco\", \"Adnan\", \"Antonio\", \"Carmen\", \"Floriana\", \"Baris\", \"Sara\",\n",
    "              \"Karen\", \"Yael\", \"Will\"]"
   ]
  },
  {
   "cell_type": "code",
   "execution_count": 3,
   "metadata": {
    "collapsed": true
   },
   "outputs": [],
   "source": [
    "dates = [\"6-Jan-2017\",\n",
    "\"3-Feb-2017\",\n",
    "\"17-Feb-2017\",\n",
    "\"3-Mar-2017\",\n",
    "\"12-May-2017\",\n",
    "\"9-Jun-2017\",\n",
    "\"23-Jun-2017\"]\n",
    "\n"
   ]
  },
  {
   "cell_type": "code",
   "execution_count": 4,
   "metadata": {
    "collapsed": true
   },
   "outputs": [],
   "source": [
    "randomly_chosen_colleague_numbers = random.sample(range(1, len(Colleagues)), len(dates))"
   ]
  },
  {
   "cell_type": "code",
   "execution_count": 5,
   "metadata": {
    "collapsed": false
   },
   "outputs": [
    {
     "name": "stdout",
     "output_type": "stream",
     "text": [
      "Date 6-Jan-2017 has been assigned to Will\n",
      "\n",
      "Date 3-Feb-2017 has been assigned to Sara\n",
      "\n",
      "Date 17-Feb-2017 has been assigned to Karen\n",
      "\n",
      "Date 3-Mar-2017 has been assigned to Yael\n",
      "\n",
      "Date 12-May-2017 has been assigned to Baris\n",
      "\n",
      "Date 9-Jun-2017 has been assigned to Antonio\n",
      "\n",
      "Date 23-Jun-2017 has been assigned to Adnan\n",
      "\n"
     ]
    }
   ],
   "source": [
    "for number, date in enumerate(dates):\n",
    "    randomly_chosen_colleague_number = randomly_chosen_colleague_numbers[ number ]\n",
    "    randomly_chosen_colleage_name = Colleagues[randomly_chosen_colleague_number ]\n",
    "    print('Date {date} has been assigned to {name}\\n'.format(date = date, \n",
    "                                                            name = randomly_chosen_colleage_name))"
   ]
  },
  {
   "cell_type": "code",
   "execution_count": null,
   "metadata": {
    "collapsed": true
   },
   "outputs": [],
   "source": []
  }
 ],
 "metadata": {
  "kernelspec": {
   "display_name": "Python 2",
   "language": "python",
   "name": "python2"
  },
  "language_info": {
   "codemirror_mode": {
    "name": "ipython",
    "version": 2
   },
   "file_extension": ".py",
   "mimetype": "text/x-python",
   "name": "python",
   "nbconvert_exporter": "python",
   "pygments_lexer": "ipython2",
   "version": "2.7.11"
  }
 },
 "nbformat": 4,
 "nbformat_minor": 0
}
